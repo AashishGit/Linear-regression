{
 "cells": [
  {
   "cell_type": "code",
   "execution_count": 1,
   "metadata": {},
   "outputs": [],
   "source": [
    "#!/usr/bin/env python3\n",
    "# -*- coding: utf-8 -*-\n",
    "\"\"\"\n",
    "Created on Mon Jul  9 15:34:16 2018\n",
    "\n",
    "@author: aashish\n",
    "\"\"\"\n",
    "##Import necessary packages\n",
    "import matplotlib.pyplot as plt\n",
    "import numpy as np\n",
    "import pandas as pd"
   ]
  },
  {
   "cell_type": "code",
   "execution_count": 2,
   "metadata": {},
   "outputs": [],
   "source": [
    "##Compute cost function\n",
    "def computeCost(X_train, y_train, theta):\n",
    "    thetaT = np.transpose(theta)\n",
    "    m = np.matmul(X_train, thetaT)\n",
    "    inner = np.power((m - y_train), 2)\n",
    "    h = np.sum(inner) / (2 * len(X_train))\n",
    "    return h"
   ]
  },
  {
   "cell_type": "code",
   "execution_count": 3,
   "metadata": {},
   "outputs": [],
   "source": [
    "##Compute the Gradient and update the theta matrix\n",
    "def gradientDescent(X_train, y_train, theta, alpha, iters):\n",
    "    \n",
    "    # Define the temp matrix for theta\n",
    "    temp = np.matrix(np.zeros(theta.shape))\n",
    "    \n",
    "    # Number of parameters to iterate through\n",
    "    parameters = int(X_train.shape[1])\n",
    "    \n",
    "    # cost vector to see how it progresses through each step\n",
    "    cost = np.zeros(iters + 1)\n",
    "    cost[0] = computeCost(X_train, y_train, theta)\n",
    "    \n",
    "    # Calculate the error at each step\n",
    "    for i in range(iters):\n",
    "        error = (X_train * theta.T) - y_train\n",
    "        \n",
    "        for j in range(parameters):\n",
    "            term = np.multiply(error, X_train[:,j])\n",
    "            temp[0,j] = theta[0,j] - ((alpha / len(X_train)) * np.sum(term))\n",
    "            \n",
    "        theta = temp\n",
    "        cost[i + 1] = computeCost(X_train, y_train, theta)\n",
    "        \n",
    "    return theta, cost"
   ]
  },
  {
   "cell_type": "code",
   "execution_count": 6,
   "metadata": {},
   "outputs": [
    {
     "data": {
      "text/plain": [
       "((4898, 12), (4898, 12))"
      ]
     },
     "execution_count": 6,
     "metadata": {},
     "output_type": "execute_result"
    }
   ],
   "source": [
    "##Import the csv file\n",
    "#Load dataset\n",
    "data_set = pd.read_csv('/home/drogon/github/Liner-regression-/winequality-white.csv', header = 0, sep=';')\n",
    "##Normalize the dataset\n",
    "data_z = (data_set - data_set.mean()) / data_set.std()\n",
    "data_set.shape, data_z.shape"
   ]
  },
  {
   "cell_type": "code",
   "execution_count": 7,
   "metadata": {},
   "outputs": [],
   "source": [
    "#Specify hyperparameters\n",
    "alpha = 0.01\n",
    "iters = 2000"
   ]
  },
  {
   "cell_type": "code",
   "execution_count": 8,
   "metadata": {},
   "outputs": [],
   "source": [
    "#Splitting the data into training and testiing\n",
    "cols = data_z.shape[1]\n",
    "train = data_z.sample(frac=0.8,random_state=200)\n",
    "test = data_z.drop(train.index)\n",
    "X_train = train.iloc[:,0:cols-1]\n",
    "X_test = test.iloc[:,0:cols-1]\n",
    "y_train = train.iloc[:,cols-1:cols]\n",
    "y_test = test.iloc[:,cols-1:cols]\n",
    "X_train = np.matrix(X_train.values)\n",
    "X_test = np.matrix(X_test.values)\n",
    "y_train = np.matrix(y_train.values)\n",
    "y_test = np.matrix(y_test.values)"
   ]
  },
  {
   "cell_type": "code",
   "execution_count": 9,
   "metadata": {},
   "outputs": [
    {
     "data": {
      "text/plain": [
       "((3918, 11), (3918, 1), (980, 11), (980, 1))"
      ]
     },
     "execution_count": 9,
     "metadata": {},
     "output_type": "execute_result"
    }
   ],
   "source": [
    "X_train.shape, y_train.shape, X_test.shape, y_test.shape"
   ]
  },
  {
   "cell_type": "code",
   "execution_count": 11,
   "metadata": {},
   "outputs": [
    {
     "name": "stdout",
     "output_type": "stream",
     "text": [
      "Initial cost:  0.49160324476607936\n"
     ]
    }
   ],
   "source": [
    "theta = np.matrix(np.zeros(shape=[1,X_train.shape[1]]))\n",
    "print (\"Initial cost: \", computeCost(X_train, y_train, theta))"
   ]
  },
  {
   "cell_type": "code",
   "execution_count": 12,
   "metadata": {},
   "outputs": [
    {
     "name": "stdout",
     "output_type": "stream",
     "text": [
      "Theta:  [[ 0.02033025 -0.20832925 -0.00519811  0.26919164 -0.02112524  0.11959203\n",
      "  -0.0463747  -0.21350342  0.078028    0.07182034  0.39811639]]\n",
      "End cost:      0.35365486510041994\n"
     ]
    }
   ],
   "source": [
    "g, cost = gradientDescent(X_train, y_train, theta, alpha, iters)\n",
    "print (\"Theta: \", g)\n",
    "print (\"End cost:     \", computeCost(X_train, y_train, g))"
   ]
  },
  {
   "cell_type": "code",
   "execution_count": 13,
   "metadata": {},
   "outputs": [
    {
     "data": {
      "image/png": "[encoded data removed]",
      "text/plain": [
       "<Figure size 432x288 with 1 Axes>"
      ]
     },
     "metadata": {
      "needs_background": "light"
     },
     "output_type": "display_data"
    }
   ],
   "source": [
    "plt.plot(cost, linewidth = 2)\n",
    "plt.ylabel('Cost Function')\n",
    "plt.xlabel('Number of iterations')\n",
    "plt.show()"
   ]
  },
  {
   "cell_type": "code",
   "execution_count": 14,
   "metadata": {},
   "outputs": [],
   "source": [
    "##Multiply the optimized theta matrix with the test features\n",
    "test = np.matmul(X_test, g.T)"
   ]
  },
  {
   "cell_type": "code",
   "execution_count": 15,
   "metadata": {},
   "outputs": [],
   "source": [
    "#Calculate error value\n",
    "err = np.subtract(test, y_test)"
   ]
  },
  {
   "cell_type": "code",
   "execution_count": 16,
   "metadata": {},
   "outputs": [
    {
     "data": {
      "text/plain": [
       "matrix([[-0.15063926,  0.13785607, -0.28849532],\n",
       "        [ 0.04884744,  2.39611362, -2.34726618],\n",
       "        [-0.14071696,  0.13785607, -0.27857302],\n",
       "        ...,\n",
       "        [-1.21610894, -2.12040149,  0.90429255],\n",
       "        [-0.20540193, -0.99127271,  0.78587078],\n",
       "        [-0.55058048, -0.99127271,  0.44069223]])"
      ]
     },
     "execution_count": 16,
     "metadata": {},
     "output_type": "execute_result"
    }
   ],
   "source": [
    "#Display the predicted, actual and the eror values\n",
    "data = np.concatenate((test, y_test, err), axis=1)\n",
    "data"
   ]
  },
  {
   "cell_type": "code",
   "execution_count": 17,
   "metadata": {},
   "outputs": [
    {
     "name": "stdout",
     "output_type": "stream",
     "text": [
      "The R-squared value is 0.2656269350938273\n"
     ]
    }
   ],
   "source": [
    "actual_mean = np.mean(y_test)\n",
    "sse = np.sum(np.power((test-y_test),2))\n",
    "sst = np.sum(np.power((y_test-actual_mean),2))\n",
    "r_2 = 1-(sse/sst)\n",
    "print (\"The R-squared value is\", r_2)\n"
   ]
  },
  {
   "cell_type": "code",
   "execution_count": null,
   "metadata": {},
   "outputs": [],
   "source": []
  }
 ],
 "metadata": {
  "kernelspec": {
   "display_name": "Python 3",
   "language": "python",
   "name": "python3"
  },
  "language_info": {
   "codemirror_mode": {
    "name": "ipython",
    "version": 3
   },
   "file_extension": ".py",
   "mimetype": "text/x-python",
   "name": "python",
   "nbconvert_exporter": "python",
   "pygments_lexer": "ipython3",
   "version": "3.7.3"
  }
 },
 "nbformat": 4,
 "nbformat_minor": 2
}
